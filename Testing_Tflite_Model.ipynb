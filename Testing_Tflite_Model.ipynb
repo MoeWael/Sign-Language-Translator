{
 "cells": [
  {
   "cell_type": "code",
   "execution_count": 4,
   "metadata": {},
   "outputs": [],
   "source": [
    "import tensorflow as tf\n",
    "import cv2\n",
    "import numpy as np"
   ]
  },
  {
   "cell_type": "code",
   "execution_count": 19,
   "metadata": {},
   "outputs": [],
   "source": [
    "def preprocess_Input(X):\n",
    "    np_X = np.array(X)\n",
    "    normalised_X = np_X.astype('float32')/255.0\n",
    "    normalised_X = np.expand_dims(normalised_X, axis=0)\n",
    "    return normalised_X"
   ]
  },
  {
   "cell_type": "code",
   "execution_count": 22,
   "metadata": {},
   "outputs": [],
   "source": [
    "classes = ['A', 'B', 'C', 'D', 'E', 'F', 'G', 'H', 'I', 'J', 'K', \n",
    "           'L', 'M', 'N', 'O', 'P', 'Q', 'R', 'S', 'T', 'U', 'V', \n",
    "           'W', 'X', 'Y', 'Z', 'del', 'nothing', 'space']"
   ]
  },
  {
   "cell_type": "code",
   "execution_count": 32,
   "metadata": {},
   "outputs": [
    {
     "name": "stdout",
     "output_type": "stream",
     "text": [
      "0\n",
      "Predicted label: A\n",
      "1\n",
      "Predicted label: B\n",
      "2\n",
      "Predicted label: C\n",
      "3\n",
      "Predicted label: D\n",
      "4\n",
      "Predicted label: E\n",
      "5\n",
      "Predicted label: F\n",
      "6\n",
      "Predicted label: G\n",
      "7\n",
      "Predicted label: H\n",
      "8\n",
      "Predicted label: I\n",
      "9\n",
      "Predicted label: J\n",
      "10\n",
      "Predicted label: K\n",
      "11\n",
      "Predicted label: L\n",
      "6\n",
      "Predicted label: G\n",
      "13\n",
      "Predicted label: N\n",
      "3\n",
      "Predicted label: D\n",
      "15\n",
      "Predicted label: P\n",
      "16\n",
      "Predicted label: Q\n",
      "8\n",
      "Predicted label: I\n",
      "28\n",
      "Predicted label: space\n",
      "24\n",
      "Predicted label: Y\n",
      "20\n",
      "Predicted label: U\n",
      "21\n",
      "Predicted label: V\n",
      "22\n",
      "Predicted label: W\n",
      "25\n",
      "Predicted label: Z\n",
      "24\n",
      "Predicted label: Y\n",
      "25\n",
      "Predicted label: Z\n",
      "26\n",
      "Predicted label: del\n",
      "8\n",
      "Predicted label: I\n",
      "28\n",
      "Predicted label: space\n"
     ]
    }
   ],
   "source": [
    "# Load the TFLite model and allocate tensors.\n",
    "interpreter = tf.lite.Interpreter(model_path='ASL_words_mobilenet_v2_130_224.tflite')\n",
    "interpreter.allocate_tensors()\n",
    "\n",
    "# Get input and output tensors.\n",
    "input_details = interpreter.get_input_details()\n",
    "output_details = interpreter.get_output_details()\n",
    "\n",
    "for i in range(0,29) :\n",
    "    # Set up your input data.\n",
    "    currentImage = classes[i]+\"_test.jpg\"\n",
    "    word = cv2.imread(currentImage)\n",
    "    word = cv2.resize(word,(224,224))     # resize image to match model's expected sizing\n",
    "    word = preprocess_Input(word)\n",
    "\n",
    "    # Invoke the model on the input data\n",
    "    interpreter.set_tensor(input_details[0]['index'], word)\n",
    "    interpreter.invoke()\n",
    "\n",
    "    # Get the result \n",
    "    output_data = interpreter.get_tensor(output_details[0]['index'])\n",
    "    predicted_index = np.argmax(output_data)\n",
    "    print(predicted_index)\n",
    "\n",
    "    print(\"Predicted label: \" + classes[predicted_index])\n",
    "\n",
    "#e_result = np.argmax(hand)\n",
    "#prob = str(round(hand[np.argmax(hand)], 2))"
   ]
  }
 ],
 "metadata": {
  "kernelspec": {
   "display_name": "Python 3.9.6 ('GPEnv')",
   "language": "python",
   "name": "python3"
  },
  "language_info": {
   "codemirror_mode": {
    "name": "ipython",
    "version": 3
   },
   "file_extension": ".py",
   "mimetype": "text/x-python",
   "name": "python",
   "nbconvert_exporter": "python",
   "pygments_lexer": "ipython3",
   "version": "3.9.6"
  },
  "orig_nbformat": 4,
  "vscode": {
   "interpreter": {
    "hash": "cacc230392650fa4286313c795167cdc364f7039153613550d3da1c389fd26be"
   }
  }
 },
 "nbformat": 4,
 "nbformat_minor": 2
}
